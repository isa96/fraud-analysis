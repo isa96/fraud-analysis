{
 "cells": [
  {
   "cell_type": "markdown",
   "metadata": {},
   "source": [
    "<br>\n",
    "\n",
    "<span style=\"font-size:2em;font-weight:bold\">Auto Insurance Fraud Analysis</span>\n",
    "\n",
    "In this exercise, we'll be creating a simple [Flask application](https://algoritma-autoinsurance.herokuapp.com/) using [fraud-detection-insurance data](https://www.kaggle.com/sanjeevkallepalli/fraud-detection-insurance) for autoinsurance fraud detection. Full data glossary can be accessed [here](https://github.com/t3981-h/AI-Fraud/blob/master/README.md).\n",
    "\n",
    "This notebook contains guidances & tasks on the data processing for the application."
   ]
  },
  {
   "cell_type": "markdown",
   "metadata": {},
   "source": [
    "<span style=\"font-size:1.5em;font-weight:bold\">Libraries & Setup</span>:"
   ]
  },
  {
   "cell_type": "code",
   "execution_count": 3,
   "metadata": {
    "ExecuteTime": {
     "end_time": "2020-09-19T21:24:40.303014Z",
     "start_time": "2020-09-19T21:24:40.292045Z"
    }
   },
   "outputs": [],
   "source": [
    "import warnings\n",
    "warnings.filterwarnings('ignore')\n",
    "\n",
    "import pandas as pd\n",
    "import matplotlib.pyplot as plt\n",
    "import matplotlib.patches as mpatches"
   ]
  },
  {
   "cell_type": "markdown",
   "metadata": {},
   "source": [
    "# Load & Pre-process data\n",
    "\n",
    "Let's begin by reading our dataset in. The data will be using is `autoinsurance.csv` which located under `data/` directory:"
   ]
  },
  {
   "cell_type": "code",
   "execution_count": 5,
   "metadata": {
    "ExecuteTime": {
     "end_time": "2020-09-19T21:25:13.703238Z",
     "start_time": "2020-09-19T21:25:13.656822Z"
    }
   },
   "outputs": [
    {
     "data": {
      "text/html": [
       "<div>\n",
       "<style scoped>\n",
       "    .dataframe tbody tr th:only-of-type {\n",
       "        vertical-align: middle;\n",
       "    }\n",
       "\n",
       "    .dataframe tbody tr th {\n",
       "        vertical-align: top;\n",
       "    }\n",
       "\n",
       "    .dataframe thead th {\n",
       "        text-align: right;\n",
       "    }\n",
       "</style>\n",
       "<table border=\"1\" class=\"dataframe\">\n",
       "  <thead>\n",
       "    <tr style=\"text-align: right;\">\n",
       "      <th></th>\n",
       "      <th>months_as_customer</th>\n",
       "      <th>age</th>\n",
       "      <th>policy_number</th>\n",
       "      <th>policy_bind_date</th>\n",
       "      <th>policy_state</th>\n",
       "      <th>policy_csl</th>\n",
       "      <th>policy_deductable</th>\n",
       "      <th>policy_annual_premium</th>\n",
       "      <th>umbrella_limit</th>\n",
       "      <th>insured_zip</th>\n",
       "      <th>...</th>\n",
       "      <th>police_report_available</th>\n",
       "      <th>total_claim_amount</th>\n",
       "      <th>injury_claim</th>\n",
       "      <th>property_claim</th>\n",
       "      <th>vehicle_claim</th>\n",
       "      <th>auto_make</th>\n",
       "      <th>auto_model</th>\n",
       "      <th>auto_year</th>\n",
       "      <th>fraud_reported</th>\n",
       "      <th>_c39</th>\n",
       "    </tr>\n",
       "  </thead>\n",
       "  <tbody>\n",
       "    <tr>\n",
       "      <th>0</th>\n",
       "      <td>328</td>\n",
       "      <td>48</td>\n",
       "      <td>521585</td>\n",
       "      <td>2014-10-17</td>\n",
       "      <td>OH</td>\n",
       "      <td>250/500</td>\n",
       "      <td>1000</td>\n",
       "      <td>1406.91</td>\n",
       "      <td>0</td>\n",
       "      <td>466132</td>\n",
       "      <td>...</td>\n",
       "      <td>YES</td>\n",
       "      <td>71610</td>\n",
       "      <td>6510</td>\n",
       "      <td>13020</td>\n",
       "      <td>52080</td>\n",
       "      <td>Saab</td>\n",
       "      <td>92x</td>\n",
       "      <td>2004</td>\n",
       "      <td>Y</td>\n",
       "      <td>NaN</td>\n",
       "    </tr>\n",
       "    <tr>\n",
       "      <th>1</th>\n",
       "      <td>228</td>\n",
       "      <td>42</td>\n",
       "      <td>342868</td>\n",
       "      <td>2006-06-27</td>\n",
       "      <td>IN</td>\n",
       "      <td>250/500</td>\n",
       "      <td>2000</td>\n",
       "      <td>1197.22</td>\n",
       "      <td>5000000</td>\n",
       "      <td>468176</td>\n",
       "      <td>...</td>\n",
       "      <td>?</td>\n",
       "      <td>5070</td>\n",
       "      <td>780</td>\n",
       "      <td>780</td>\n",
       "      <td>3510</td>\n",
       "      <td>Mercedes</td>\n",
       "      <td>E400</td>\n",
       "      <td>2007</td>\n",
       "      <td>Y</td>\n",
       "      <td>NaN</td>\n",
       "    </tr>\n",
       "    <tr>\n",
       "      <th>2</th>\n",
       "      <td>134</td>\n",
       "      <td>29</td>\n",
       "      <td>687698</td>\n",
       "      <td>2000-09-06</td>\n",
       "      <td>OH</td>\n",
       "      <td>100/300</td>\n",
       "      <td>2000</td>\n",
       "      <td>1413.14</td>\n",
       "      <td>5000000</td>\n",
       "      <td>430632</td>\n",
       "      <td>...</td>\n",
       "      <td>NO</td>\n",
       "      <td>34650</td>\n",
       "      <td>7700</td>\n",
       "      <td>3850</td>\n",
       "      <td>23100</td>\n",
       "      <td>Dodge</td>\n",
       "      <td>RAM</td>\n",
       "      <td>2007</td>\n",
       "      <td>N</td>\n",
       "      <td>NaN</td>\n",
       "    </tr>\n",
       "    <tr>\n",
       "      <th>3</th>\n",
       "      <td>256</td>\n",
       "      <td>41</td>\n",
       "      <td>227811</td>\n",
       "      <td>1990-05-25</td>\n",
       "      <td>IL</td>\n",
       "      <td>250/500</td>\n",
       "      <td>2000</td>\n",
       "      <td>1415.74</td>\n",
       "      <td>6000000</td>\n",
       "      <td>608117</td>\n",
       "      <td>...</td>\n",
       "      <td>NO</td>\n",
       "      <td>63400</td>\n",
       "      <td>6340</td>\n",
       "      <td>6340</td>\n",
       "      <td>50720</td>\n",
       "      <td>Chevrolet</td>\n",
       "      <td>Tahoe</td>\n",
       "      <td>2014</td>\n",
       "      <td>Y</td>\n",
       "      <td>NaN</td>\n",
       "    </tr>\n",
       "    <tr>\n",
       "      <th>4</th>\n",
       "      <td>228</td>\n",
       "      <td>44</td>\n",
       "      <td>367455</td>\n",
       "      <td>2014-06-06</td>\n",
       "      <td>IL</td>\n",
       "      <td>500/1000</td>\n",
       "      <td>1000</td>\n",
       "      <td>1583.91</td>\n",
       "      <td>6000000</td>\n",
       "      <td>610706</td>\n",
       "      <td>...</td>\n",
       "      <td>NO</td>\n",
       "      <td>6500</td>\n",
       "      <td>1300</td>\n",
       "      <td>650</td>\n",
       "      <td>4550</td>\n",
       "      <td>Accura</td>\n",
       "      <td>RSX</td>\n",
       "      <td>2009</td>\n",
       "      <td>N</td>\n",
       "      <td>NaN</td>\n",
       "    </tr>\n",
       "  </tbody>\n",
       "</table>\n",
       "<p>5 rows × 40 columns</p>\n",
       "</div>"
      ],
      "text/plain": [
       "   months_as_customer  age  policy_number policy_bind_date policy_state  \\\n",
       "0                 328   48         521585       2014-10-17           OH   \n",
       "1                 228   42         342868       2006-06-27           IN   \n",
       "2                 134   29         687698       2000-09-06           OH   \n",
       "3                 256   41         227811       1990-05-25           IL   \n",
       "4                 228   44         367455       2014-06-06           IL   \n",
       "\n",
       "  policy_csl  policy_deductable  policy_annual_premium  umbrella_limit  \\\n",
       "0    250/500               1000                1406.91               0   \n",
       "1    250/500               2000                1197.22         5000000   \n",
       "2    100/300               2000                1413.14         5000000   \n",
       "3    250/500               2000                1415.74         6000000   \n",
       "4   500/1000               1000                1583.91         6000000   \n",
       "\n",
       "   insured_zip  ... police_report_available total_claim_amount injury_claim  \\\n",
       "0       466132  ...                     YES              71610         6510   \n",
       "1       468176  ...                       ?               5070          780   \n",
       "2       430632  ...                      NO              34650         7700   \n",
       "3       608117  ...                      NO              63400         6340   \n",
       "4       610706  ...                      NO               6500         1300   \n",
       "\n",
       "  property_claim vehicle_claim  auto_make  auto_model auto_year  \\\n",
       "0          13020         52080       Saab         92x      2004   \n",
       "1            780          3510   Mercedes        E400      2007   \n",
       "2           3850         23100      Dodge         RAM      2007   \n",
       "3           6340         50720  Chevrolet       Tahoe      2014   \n",
       "4            650          4550     Accura         RSX      2009   \n",
       "\n",
       "  fraud_reported _c39  \n",
       "0              Y  NaN  \n",
       "1              Y  NaN  \n",
       "2              N  NaN  \n",
       "3              Y  NaN  \n",
       "4              N  NaN  \n",
       "\n",
       "[5 rows x 40 columns]"
      ]
     },
     "execution_count": 5,
     "metadata": {},
     "output_type": "execute_result"
    }
   ],
   "source": [
    "insurance = pd.read_csv('data/autoinsurance.csv')\n",
    "insurance.head()"
   ]
  },
  {
   "cell_type": "markdown",
   "metadata": {},
   "source": [
    "A very common step on your exploratory process is to make sure that all your columns have stored in the right data types. In the following cell, use `dtypes` to acquire information of data type of each column:"
   ]
  },
  {
   "cell_type": "code",
   "execution_count": 70,
   "metadata": {},
   "outputs": [],
   "source": [
    "## Your code here\n"
   ]
  },
  {
   "cell_type": "markdown",
   "metadata": {},
   "source": [
    "Notice that all categorical informations from the data were stored as `object` rather than `category`.\n",
    "\n",
    "## Adjust Data Types\n",
    "\n",
    "**Task 1**: Fill in the blank (`___`) part of the code below to cast all `object` to `category`:"
   ]
  },
  {
   "cell_type": "code",
   "execution_count": 69,
   "metadata": {},
   "outputs": [],
   "source": [
    "catcol = insurance.select_dtypes('object').columns\n",
    "insurance[catcol] = insurance[catcol].apply(lambda x: x.astype('_______'))"
   ]
  },
  {
   "cell_type": "markdown",
   "metadata": {},
   "source": [
    "## Wrap as Function\n",
    "\n",
    "Lastly, let's wrap the whole process above as a function named `load_data()`. This process is essential because in your Flask application later, you will need to define all your data processing as specific functions. \n",
    "\n",
    "**Task 3**: Fill in the blank (`___`) part with the same process you have done previously to complete the function."
   ]
  },
  {
   "cell_type": "code",
   "execution_count": 14,
   "metadata": {
    "ExecuteTime": {
     "end_time": "2020-09-19T21:43:20.778413Z",
     "start_time": "2020-09-19T21:43:20.759463Z"
    }
   },
   "outputs": [],
   "source": [
    "def load_data():\n",
    "    # Read data\n",
    "    insurance = pd.read_csv('data/autoinsurance.csv')\n",
    "    \n",
    "    # Adjust dtypes\n",
    "    catcol = insurance.select_dtypes('object').columns\n",
    "    insurance[catcol] = insurance[catcol].apply(lambda x: x.astype('_____'))\n",
    "    \n",
    "    return(insurance)"
   ]
  },
  {
   "cell_type": "markdown",
   "metadata": {},
   "source": [
    "Congratulations, you have done the very first challenge of this capstone project!\n",
    "\n",
    "If you take a look at the project directory, you will find two separate scripts; `app.py` and `helper.py`. `app.py` handles the routing and within `helper.py` you would define function to be called in `app`.\n",
    "\n",
    "If you open up the `helper.py`, you will find all the functions needed to create the dashboard contents such as plots and data values. You may now copy the `load_data()` function definition above and overwrite the existing function on the script and save it.\n",
    "\n",
    "In `app.py`, notice that there's a line of `data = load_data()`. that you've save your function in separate python file/script, you can import the function to another script as the following:"
   ]
  },
  {
   "cell_type": "code",
   "execution_count": 15,
   "metadata": {
    "ExecuteTime": {
     "end_time": "2020-09-19T21:43:22.508187Z",
     "start_time": "2020-09-19T21:43:22.427877Z"
    }
   },
   "outputs": [
    {
     "data": {
      "text/html": [
       "<div>\n",
       "<style scoped>\n",
       "    .dataframe tbody tr th:only-of-type {\n",
       "        vertical-align: middle;\n",
       "    }\n",
       "\n",
       "    .dataframe tbody tr th {\n",
       "        vertical-align: top;\n",
       "    }\n",
       "\n",
       "    .dataframe thead th {\n",
       "        text-align: right;\n",
       "    }\n",
       "</style>\n",
       "<table border=\"1\" class=\"dataframe\">\n",
       "  <thead>\n",
       "    <tr style=\"text-align: right;\">\n",
       "      <th></th>\n",
       "      <th>months_as_customer</th>\n",
       "      <th>age</th>\n",
       "      <th>policy_number</th>\n",
       "      <th>policy_bind_date</th>\n",
       "      <th>policy_state</th>\n",
       "      <th>policy_csl</th>\n",
       "      <th>policy_deductable</th>\n",
       "      <th>policy_annual_premium</th>\n",
       "      <th>umbrella_limit</th>\n",
       "      <th>insured_zip</th>\n",
       "      <th>...</th>\n",
       "      <th>police_report_available</th>\n",
       "      <th>total_claim_amount</th>\n",
       "      <th>injury_claim</th>\n",
       "      <th>property_claim</th>\n",
       "      <th>vehicle_claim</th>\n",
       "      <th>auto_make</th>\n",
       "      <th>auto_model</th>\n",
       "      <th>auto_year</th>\n",
       "      <th>fraud_reported</th>\n",
       "      <th>_c39</th>\n",
       "    </tr>\n",
       "  </thead>\n",
       "  <tbody>\n",
       "    <tr>\n",
       "      <th>0</th>\n",
       "      <td>328</td>\n",
       "      <td>48</td>\n",
       "      <td>521585</td>\n",
       "      <td>2014-10-17</td>\n",
       "      <td>OH</td>\n",
       "      <td>250/500</td>\n",
       "      <td>1000</td>\n",
       "      <td>1406.91</td>\n",
       "      <td>0</td>\n",
       "      <td>466132</td>\n",
       "      <td>...</td>\n",
       "      <td>YES</td>\n",
       "      <td>71610</td>\n",
       "      <td>6510</td>\n",
       "      <td>13020</td>\n",
       "      <td>52080</td>\n",
       "      <td>Saab</td>\n",
       "      <td>92x</td>\n",
       "      <td>2004</td>\n",
       "      <td>Y</td>\n",
       "      <td>NaN</td>\n",
       "    </tr>\n",
       "    <tr>\n",
       "      <th>1</th>\n",
       "      <td>228</td>\n",
       "      <td>42</td>\n",
       "      <td>342868</td>\n",
       "      <td>2006-06-27</td>\n",
       "      <td>IN</td>\n",
       "      <td>250/500</td>\n",
       "      <td>2000</td>\n",
       "      <td>1197.22</td>\n",
       "      <td>5000000</td>\n",
       "      <td>468176</td>\n",
       "      <td>...</td>\n",
       "      <td>?</td>\n",
       "      <td>5070</td>\n",
       "      <td>780</td>\n",
       "      <td>780</td>\n",
       "      <td>3510</td>\n",
       "      <td>Mercedes</td>\n",
       "      <td>E400</td>\n",
       "      <td>2007</td>\n",
       "      <td>Y</td>\n",
       "      <td>NaN</td>\n",
       "    </tr>\n",
       "    <tr>\n",
       "      <th>2</th>\n",
       "      <td>134</td>\n",
       "      <td>29</td>\n",
       "      <td>687698</td>\n",
       "      <td>2000-09-06</td>\n",
       "      <td>OH</td>\n",
       "      <td>100/300</td>\n",
       "      <td>2000</td>\n",
       "      <td>1413.14</td>\n",
       "      <td>5000000</td>\n",
       "      <td>430632</td>\n",
       "      <td>...</td>\n",
       "      <td>NO</td>\n",
       "      <td>34650</td>\n",
       "      <td>7700</td>\n",
       "      <td>3850</td>\n",
       "      <td>23100</td>\n",
       "      <td>Dodge</td>\n",
       "      <td>RAM</td>\n",
       "      <td>2007</td>\n",
       "      <td>N</td>\n",
       "      <td>NaN</td>\n",
       "    </tr>\n",
       "    <tr>\n",
       "      <th>3</th>\n",
       "      <td>256</td>\n",
       "      <td>41</td>\n",
       "      <td>227811</td>\n",
       "      <td>1990-05-25</td>\n",
       "      <td>IL</td>\n",
       "      <td>250/500</td>\n",
       "      <td>2000</td>\n",
       "      <td>1415.74</td>\n",
       "      <td>6000000</td>\n",
       "      <td>608117</td>\n",
       "      <td>...</td>\n",
       "      <td>NO</td>\n",
       "      <td>63400</td>\n",
       "      <td>6340</td>\n",
       "      <td>6340</td>\n",
       "      <td>50720</td>\n",
       "      <td>Chevrolet</td>\n",
       "      <td>Tahoe</td>\n",
       "      <td>2014</td>\n",
       "      <td>Y</td>\n",
       "      <td>NaN</td>\n",
       "    </tr>\n",
       "    <tr>\n",
       "      <th>4</th>\n",
       "      <td>228</td>\n",
       "      <td>44</td>\n",
       "      <td>367455</td>\n",
       "      <td>2014-06-06</td>\n",
       "      <td>IL</td>\n",
       "      <td>500/1000</td>\n",
       "      <td>1000</td>\n",
       "      <td>1583.91</td>\n",
       "      <td>6000000</td>\n",
       "      <td>610706</td>\n",
       "      <td>...</td>\n",
       "      <td>NO</td>\n",
       "      <td>6500</td>\n",
       "      <td>1300</td>\n",
       "      <td>650</td>\n",
       "      <td>4550</td>\n",
       "      <td>Accura</td>\n",
       "      <td>RSX</td>\n",
       "      <td>2009</td>\n",
       "      <td>N</td>\n",
       "      <td>NaN</td>\n",
       "    </tr>\n",
       "  </tbody>\n",
       "</table>\n",
       "<p>5 rows × 40 columns</p>\n",
       "</div>"
      ],
      "text/plain": [
       "   months_as_customer  age  policy_number policy_bind_date policy_state  \\\n",
       "0                 328   48         521585       2014-10-17           OH   \n",
       "1                 228   42         342868       2006-06-27           IN   \n",
       "2                 134   29         687698       2000-09-06           OH   \n",
       "3                 256   41         227811       1990-05-25           IL   \n",
       "4                 228   44         367455       2014-06-06           IL   \n",
       "\n",
       "  policy_csl  policy_deductable  policy_annual_premium  umbrella_limit  \\\n",
       "0    250/500               1000                1406.91               0   \n",
       "1    250/500               2000                1197.22         5000000   \n",
       "2    100/300               2000                1413.14         5000000   \n",
       "3    250/500               2000                1415.74         6000000   \n",
       "4   500/1000               1000                1583.91         6000000   \n",
       "\n",
       "   insured_zip  ... police_report_available total_claim_amount injury_claim  \\\n",
       "0       466132  ...                     YES              71610         6510   \n",
       "1       468176  ...                       ?               5070          780   \n",
       "2       430632  ...                      NO              34650         7700   \n",
       "3       608117  ...                      NO              63400         6340   \n",
       "4       610706  ...                      NO               6500         1300   \n",
       "\n",
       "  property_claim vehicle_claim  auto_make  auto_model auto_year  \\\n",
       "0          13020         52080       Saab         92x      2004   \n",
       "1            780          3510   Mercedes        E400      2007   \n",
       "2           3850         23100      Dodge         RAM      2007   \n",
       "3           6340         50720  Chevrolet       Tahoe      2014   \n",
       "4            650          4550     Accura         RSX      2009   \n",
       "\n",
       "  fraud_reported _c39  \n",
       "0              Y  NaN  \n",
       "1              Y  NaN  \n",
       "2              N  NaN  \n",
       "3              Y  NaN  \n",
       "4              N  NaN  \n",
       "\n",
       "[5 rows x 40 columns]"
      ]
     },
     "execution_count": 15,
     "metadata": {},
     "output_type": "execute_result"
    }
   ],
   "source": [
    "data = load_data()\n",
    "data.head()"
   ]
  },
  {
   "cell_type": "markdown",
   "metadata": {},
   "source": [
    "<span style=\"font-size:2em;font-weight:bold\">Data Wrangling & Visualization</span>\n",
    "\n",
    "Now that you're data is ready, we're now ready to prepare the explanatory data in our dashboard!\n",
    "\n",
    "Within `app.py` you will see the `index()` function will return a rendered templates along with some variables:\n",
    "- `card_data`: quick summary including **Fraud Rate**, **Average Claim Amount** & **Fraud Loss**\n",
    "- `plot_age`: **Fraud Reported by Age group** plot in **by Profile** tab\n",
    "- `plot_premium`: **Months as Customer per Policy Annual Premium** plot in **by Profile** tab\n",
    "- `plot_incident`: **Number of Fraud Reported per Day** plot in **by Report** tab\n",
    "- `plot_report`: **Police Report Availability** plot in **by Report** tab\n",
    "\n",
    "The values and plots above were resulted from all EDA techniques you have learned in the pervious workshops. Your next challenge is to recall how to use pandas subsetting method, aggregation tables and simple visualization!\n"
   ]
  },
  {
   "cell_type": "markdown",
   "metadata": {},
   "source": [
    "# Extract Quick Summary\n",
    "\n",
    "Let's acquire the needed information for the quick summary in `card_data`. There are 3 values you need to extract:\n",
    "- **Fraud Rate**: The percentage of fraud reported (`Fraud_reported` = Y)  \n",
    "- **Average Claim Amount**: The Average of total claim amount at this quarter (`total_claim_amount`)  \n",
    "- **Total Fraud Loss**: Total of fraud loss at this quarter (`total_claim_amount`)\n",
    "\n",
    "**Task 4**: Fill in the blank (`___`) part of the code below to create a proportion table of fraud and not fraud customer!"
   ]
  },
  {
   "cell_type": "code",
   "execution_count": 17,
   "metadata": {
    "ExecuteTime": {
     "end_time": "2020-09-19T21:43:58.021131Z",
     "start_time": "2020-09-19T21:43:57.866936Z"
    },
    "scrolled": true
   },
   "outputs": [
    {
     "data": {
      "text/html": [
       "<div>\n",
       "<style scoped>\n",
       "    .dataframe tbody tr th:only-of-type {\n",
       "        vertical-align: middle;\n",
       "    }\n",
       "\n",
       "    .dataframe tbody tr th {\n",
       "        vertical-align: top;\n",
       "    }\n",
       "\n",
       "    .dataframe thead th {\n",
       "        text-align: right;\n",
       "    }\n",
       "</style>\n",
       "<table border=\"1\" class=\"dataframe\">\n",
       "  <thead>\n",
       "    <tr style=\"text-align: right;\">\n",
       "      <th>col_0</th>\n",
       "      <th>count</th>\n",
       "    </tr>\n",
       "    <tr>\n",
       "      <th>fraud_reported</th>\n",
       "      <th></th>\n",
       "    </tr>\n",
       "  </thead>\n",
       "  <tbody>\n",
       "    <tr>\n",
       "      <th>N</th>\n",
       "      <td>75.3</td>\n",
       "    </tr>\n",
       "    <tr>\n",
       "      <th>Y</th>\n",
       "      <td>24.7</td>\n",
       "    </tr>\n",
       "  </tbody>\n",
       "</table>\n",
       "</div>"
      ],
      "text/plain": [
       "col_0           count\n",
       "fraud_reported       \n",
       "N                75.3\n",
       "Y                24.7"
      ]
     },
     "execution_count": 17,
     "metadata": {},
     "output_type": "execute_result"
    }
   ],
   "source": [
    "pd.crosstab(index=________,columns='count',normalize=______)*100"
   ]
  },
  {
   "cell_type": "markdown",
   "metadata": {},
   "source": [
    "We can extract the value from our table by using `.loc[]` subsetting method. \n",
    "\n",
    "**Task 5**: Fill in the blank (`___`) part to extract the information of fraud reported!"
   ]
  },
  {
   "cell_type": "code",
   "execution_count": 19,
   "metadata": {
    "ExecuteTime": {
     "end_time": "2020-09-19T21:45:46.676490Z",
     "start_time": "2020-09-19T21:45:46.655576Z"
    }
   },
   "outputs": [
    {
     "data": {
      "text/plain": [
       "'24.7%'"
      ]
     },
     "execution_count": 19,
     "metadata": {},
     "output_type": "execute_result"
    }
   ],
   "source": [
    "percent_fraud = float(________.loc[______]*100)\n",
    "\n",
    "f'{percent_fraud}%'"
   ]
  },
  {
   "cell_type": "markdown",
   "metadata": {},
   "source": [
    "**Task 6**: Extract total fraud loss with similar method! Total fraud loss is total claim amount at reported fraud costumer"
   ]
  },
  {
   "cell_type": "code",
   "execution_count": 21,
   "metadata": {
    "ExecuteTime": {
     "end_time": "2020-09-19T21:49:19.137980Z",
     "start_time": "2020-09-19T21:49:19.120027Z"
    }
   },
   "outputs": [
    {
     "data": {
      "text/plain": [
       "'US$ 14,894,620'"
      ]
     },
     "execution_count": 21,
     "metadata": {},
     "output_type": "execute_result"
    }
   ],
   "source": [
    "fraud_loss = ____\n",
    "\n",
    "f'US$ {fraud_loss:,}'"
   ]
  },
  {
   "cell_type": "markdown",
   "metadata": {},
   "source": [
    "**Task 7**: The average total claim amount stored the average (`mean`) value of `total_claim_amount` variable. Extract the value on the cell code below!"
   ]
  },
  {
   "cell_type": "code",
   "execution_count": 76,
   "metadata": {},
   "outputs": [],
   "source": [
    "## Your code here\n",
    "\n"
   ]
  },
  {
   "cell_type": "markdown",
   "metadata": {},
   "source": [
    "<span style=\"font-size:1.5em;font-weight:bold\">Update the application scripts!</span>"
   ]
  },
  {
   "cell_type": "markdown",
   "metadata": {},
   "source": [
    "Lastly, follow these instructions to complete the next part of your application scripts:\n",
    "\n",
    "- **On app.py:**\n",
    "    - \"Uncomment\" the codes under `# generate value for cards` section then use the code in **Task 4** , **Task 5** & **Task 6** to complete the blank (`___`) part of the line"
   ]
  },
  {
   "cell_type": "markdown",
   "metadata": {},
   "source": [
    "# Generate Plot\n",
    "\n",
    "## by Profile\n",
    "\n",
    "The \"by Profile\" tab contains explanatory analysis on the proportion of reported fraud by the policy holder profile. There are two plots you need to recreate for this tab; **Months as Customer per Policy Annual Premium** and **Fraud Reported by Age group**"
   ]
  },
  {
   "cell_type": "markdown",
   "metadata": {},
   "source": [
    "### Fraud Reported by Age group\n",
    "\n",
    "The Fraud Reported by Age group plot compares age group to see the frequencies of the fraud reported at each age group. "
   ]
  },
  {
   "cell_type": "markdown",
   "metadata": {},
   "source": [
    "#### Categorize age group\n",
    "\n",
    "The `tenure_months` column indicates the total amount of months that the customer has been with the company by the end of the quarter. Your next task is to create a new column named `tenure_group` which categorize the tenure months by the following conditions:\n",
    "- **19 - 24**: customer with age 19 years old up until 24 years old\n",
    "- **24 - 30**: customer with age 24 years old up until 30 years old\n",
    "- **and so on**\n",
    "\n",
    "**Task 2**: Fill in the blank (`___`) part to create the `age_group` column!"
   ]
  },
  {
   "cell_type": "code",
   "execution_count": 11,
   "metadata": {},
   "outputs": [],
   "source": [
    "# Tenure Months to grouping categories\n",
    "def age_grouping(data):\n",
    "    if(data.age <= __):\n",
    "        return '19 - 24'\n",
    "    elif(data.age > __ and data.age <= __) : \n",
    "        return '24 - 30'\n",
    "    elif(data.age > __ and data.age <= __) : \n",
    "        return '31 - 35'\n",
    "    elif(data.age > __ and data.age <= __) : \n",
    "        return '36 - 40'\n",
    "    elif(data.age > __ and data.age <= __) : \n",
    "        return '41 - 45'\n",
    "    elif(data.age > __ and data.age <= __) : \n",
    "        return '46 - 50'\n",
    "    elif(data.age > __ and data.age <= __) : \n",
    "        return '51 - 55'\n",
    "    elif(data.age > __ and data.age <= __) : \n",
    "        return '56 - 59'\n",
    "    else : \n",
    "        return '60+'\n",
    "\n",
    "data['age_group'] = data.apply(age_grouping,axis = 1)\n",
    "\n",
    "# Adjust category order\n",
    "age_group_order = [_____________]\n",
    "data['age_group'] = pd.Categorical(___________, categories = _______, ordered=____)"
   ]
  },
  {
   "cell_type": "markdown",
   "metadata": {},
   "source": [
    "**Task 8**:  \n",
    "Use `pd.crosstab()` to get the frequency proportion, then recall how to use `.plot(kind = 'barh')` to create a horizontal bar plot. Before you using crosstab to get the only fraud reported data, you need to subset the data first and save it at `fraud_data`. "
   ]
  },
  {
   "cell_type": "code",
   "execution_count": 25,
   "metadata": {
    "ExecuteTime": {
     "end_time": "2020-09-19T22:13:39.993513Z",
     "start_time": "2020-09-19T22:13:39.740105Z"
    }
   },
   "outputs": [],
   "source": [
    "## Your code here\n",
    "fraud_data = data[data['fraud_reported'] == ___]\n",
    "\n",
    "age_profile = pd.crosstab(____)\n"
   ]
  },
  {
   "cell_type": "markdown",
   "metadata": {},
   "source": [
    "You can also enhance the visualization such as adjusting the color by add the color parameter to your plot function call `.plot(kind = 'bar',color=['#c34454'])`.\n",
    "\n",
    "For now, **do not mind the plot's customization** as you can copy-and-paste the codes defined under the `plot_age()` function in `helper.py`."
   ]
  },
  {
   "cell_type": "code",
   "execution_count": 26,
   "metadata": {
    "ExecuteTime": {
     "end_time": "2020-09-19T22:13:41.962059Z",
     "start_time": "2020-09-19T22:13:41.639951Z"
    }
   },
   "outputs": [
    {
     "data": {
      "text/plain": [
       "Text(0.5, 1.0, 'Phone Service Customer')"
      ]
     },
     "execution_count": 26,
     "metadata": {},
     "output_type": "execute_result"
    },
    {
     "data": {
      "image/png": "[encoded data removed]",
      "text/plain": [
       "<Figure size 432x288 with 1 Axes>"
      ]
     },
     "metadata": {
      "needs_background": "light"
     },
     "output_type": "display_data"
    }
   ],
   "source": [
    "# Plot configuration\n",
    "ax = age_profile.plot.barh(title = \"Fraud Reported by Age group\", legend= False, color = '#c34454')\n",
    "\n",
    "ax.xaxis.set_major_formatter(mtick.PercentFormatter())\n",
    "plt.legend(['Retain', 'Churn'],fancybox=True,shadow=True)\n",
    "plt.axes().get_yaxis().set_label_text('')\n",
    "plt.title('Phone Service Customer')"
   ]
  },
  {
   "cell_type": "markdown",
   "metadata": {},
   "source": [
    "### Months as Customer per Policy Annual Premium"
   ]
  },
  {
   "cell_type": "markdown",
   "metadata": {},
   "source": [
    "We need a helper function to make the plot more beautiful. You can just run and then skip this cell."
   ]
  },
  {
   "cell_type": "code",
   "execution_count": null,
   "metadata": {},
   "outputs": [],
   "source": [
    "def tocolor(data):\n",
    "    if(data.fraud_reported == 'Y'):\n",
    "        return '#53a4b1'\n",
    "    else : \n",
    "        return '#c34454'\n",
    "    \n",
    "data.fcolor = data.apply(tocolor,axis=1)"
   ]
  },
  {
   "cell_type": "markdown",
   "metadata": {},
   "source": [
    "**Task 9**:  \n",
    "Using the same steps as what you did on \"Months as Customer per Policy Annual Premium\" plot, except this time the plot is a scatter plot that compare how long the policy holder as customer with how much their annual premium to see how those two variable relation with each other, and how is the characteristic of the fraud reported profile based on those 2 numeric variable.\n",
    "\n",
    "For now, **do not mind the plot's customization** as you can copy-and-paste the codes defined under the `plot_premium()` function in `helper.py`."
   ]
  },
  {
   "cell_type": "code",
   "execution_count": 31,
   "metadata": {
    "ExecuteTime": {
     "end_time": "2020-09-19T22:19:12.573776Z",
     "start_time": "2020-09-19T22:19:12.256291Z"
    }
   },
   "outputs": [
    {
     "data": {
      "text/plain": [
       "Text(0, 0.5, 'Policy Annual Premium')"
      ]
     },
     "execution_count": 31,
     "metadata": {},
     "output_type": "execute_result"
    },
    {
     "data": {
      "image/png": "[encoded data removed]",
      "text/plain": [
       "<Figure size 432x288 with 1 Axes>"
      ]
     },
     "metadata": {
      "needs_background": "light"
     },
     "output_type": "display_data"
    }
   ],
   "source": [
    "## Your code here\n",
    "\n",
    "ax = data.plot.scatter(x= ________, \n",
    "                       y = __________, \n",
    "                       c=data.fcolor,title = \"Months as Customer per Policy Annual Premium\",\n",
    "                       figsize=(8, 6))\n",
    "\n",
    "lab_y = mpatches.Patch(color='#53a4b1', label='Y')\n",
    "lab_n = mpatches.Patch(color='#c34454', label='N')\n",
    "plt.legend(handles = [lab_y ,lab_n], bbox_to_anchor=(1.17, 1))\n",
    "plt.xlabel(\"Months as Customer\")\n",
    "plt.ylabel(\"Policy Annual Premium\")"
   ]
  },
  {
   "cell_type": "markdown",
   "metadata": {},
   "source": [
    "## by Report\n",
    "\n",
    "The \"by Report\" tab contains explanatory analysis on how is the relationship between incident report with the fraud cases. There are two plots you need to recreate for this tab; **Number of Report per Day** and **Police Report Availability**\n",
    "\n",
    "### Number of Report per Day\n",
    "\n",
    "**Task 10**:  \n",
    "The Number of Report per Day plot visualize on how much the fraud cases happened at each day at this 1st quarter.\n",
    "\n",
    "You can start by create the frequency table for the visualization. First we need a helper function to make it easier to wrangling the data. then you can create your frequency table, this time with `pivot_table()`"
   ]
  },
  {
   "cell_type": "code",
   "execution_count": 32,
   "metadata": {
    "ExecuteTime": {
     "end_time": "2020-09-19T22:28:06.028904Z",
     "start_time": "2020-09-19T22:28:06.017966Z"
    }
   },
   "outputs": [],
   "source": [
    "## Your code here\n",
    "\n",
    "def tonum(data):\n",
    "    if(data.fraud_reported == 'Y'):\n",
    "        return 1\n",
    "    else : \n",
    "        return 0\n",
    "    \n",
    "data['fnum'] = data.apply(tonum,axis=1)\n",
    "\n",
    "timeseries = ______.pivot_table(\n",
    "    index=_______,\n",
    "    values=_______,\n",
    "    aggfunc='count')"
   ]
  },
  {
   "cell_type": "code",
   "execution_count": 34,
   "metadata": {
    "ExecuteTime": {
     "end_time": "2020-09-19T22:30:30.723923Z",
     "start_time": "2020-09-19T22:30:30.555879Z"
    }
   },
   "outputs": [
    {
     "data": {
      "image/png": "[encoded data removed]",
      "text/plain": [
       "<Figure size 576x432 with 1 Axes>"
      ]
     },
     "metadata": {
      "needs_background": "light"
     },
     "output_type": "display_data"
    }
   ],
   "source": [
    "ax = ______.plot(legend=False, title = \"Number of Fraud per Day\",color='#c34454', figsize=(8, 6))\n",
    "\n",
    "# Plot Configuration\n",
    "plt.xlabel('')"
   ]
  },
  {
   "cell_type": "markdown",
   "metadata": {},
   "source": [
    "Again, **do not mind the plot's customization** as you can copy-and-paste the codes defined under the `plot_incident()` function in `helper.py`. "
   ]
  },
  {
   "cell_type": "markdown",
   "metadata": {},
   "source": [
    "### Police Report Availability"
   ]
  },
  {
   "cell_type": "markdown",
   "metadata": {},
   "source": [
    "**Task 11**:  \n",
    "The last plot you need to recreate is the Police Report Availability. This plot visualize how the relationship of Police Report Availability with the fraud report.\n",
    "\n",
    "Since we'll separate the bars by the `fraud_report`, we will need to wrangling the data a bit to make the table we want for the visualisation."
   ]
  },
  {
   "cell_type": "code",
   "execution_count": 35,
   "metadata": {
    "ExecuteTime": {
     "end_time": "2020-09-19T22:35:54.077364Z",
     "start_time": "2020-09-19T22:35:54.048474Z"
    }
   },
   "outputs": [
    {
     "data": {
      "text/html": [
       "<div>\n",
       "<style scoped>\n",
       "    .dataframe tbody tr th:only-of-type {\n",
       "        vertical-align: middle;\n",
       "    }\n",
       "\n",
       "    .dataframe tbody tr th {\n",
       "        vertical-align: top;\n",
       "    }\n",
       "\n",
       "    .dataframe thead th {\n",
       "        text-align: right;\n",
       "    }\n",
       "</style>\n",
       "<table border=\"1\" class=\"dataframe\">\n",
       "  <thead>\n",
       "    <tr style=\"text-align: right;\">\n",
       "      <th></th>\n",
       "      <th>fraud_reported</th>\n",
       "      <th>fraud_reported</th>\n",
       "    </tr>\n",
       "    <tr>\n",
       "      <th>police_report_available</th>\n",
       "      <th></th>\n",
       "      <th></th>\n",
       "    </tr>\n",
       "  </thead>\n",
       "  <tbody>\n",
       "    <tr>\n",
       "      <th>?</th>\n",
       "      <td>89</td>\n",
       "      <td>254</td>\n",
       "    </tr>\n",
       "    <tr>\n",
       "      <th>NO</th>\n",
       "      <td>86</td>\n",
       "      <td>257</td>\n",
       "    </tr>\n",
       "    <tr>\n",
       "      <th>YES</th>\n",
       "      <td>72</td>\n",
       "      <td>242</td>\n",
       "    </tr>\n",
       "  </tbody>\n",
       "</table>\n",
       "</div>"
      ],
      "text/plain": [
       "                         fraud_reported  fraud_reported\n",
       "police_report_available                                \n",
       "?                                    89             254\n",
       "NO                                   86             257\n",
       "YES                                  72             242"
      ]
     },
     "execution_count": 35,
     "metadata": {},
     "output_type": "execute_result"
    }
   ],
   "source": [
    "## Your code here\n",
    "df_fraud = data[data.fraud_reported == ___].pivot_table(index=_______,values=______,aggfunc=______)\n",
    "\n",
    "df_nfraud = data[data.fraud_reported == ___].pivot_table(index=_______,values=______,aggfunc=______)\n",
    "\n",
    "p_report = pd.concat([______,_______],axis=1)\n",
    "p_report"
   ]
  },
  {
   "cell_type": "markdown",
   "metadata": {},
   "source": [
    "Once your data is ready, recall how to use `.plot(kind = 'bar')` to create a bar plot. You can add the `stacked` Parameter to stack of the barplot. \n",
    "\n",
    "Once again, **do not mind the plot's customization** as you can copy-and-paste the codes defined under the `plot_report()` function in `helper.py`. "
   ]
  },
  {
   "cell_type": "code",
   "execution_count": 36,
   "metadata": {
    "ExecuteTime": {
     "end_time": "2020-09-19T22:40:35.641639Z",
     "start_time": "2020-09-19T22:40:35.472092Z"
    }
   },
   "outputs": [
    {
     "data": {
      "text/plain": [
       "Text(0.5, 0, \"police report available'\")"
      ]
     },
     "execution_count": 36,
     "metadata": {},
     "output_type": "execute_result"
    },
    {
     "data": {
      "image/png": "[encoded data removed]",
      "text/plain": [
       "<Figure size 432x288 with 1 Axes>"
      ]
     },
     "metadata": {
      "needs_background": "light"
     },
     "output_type": "display_data"
    }
   ],
   "source": [
    "ax = ______.plot.bar(stacked = ____,color =['#c34454','#53a4b1'],title = \"Police Report Availability\", figsize=(8, 6))\n",
    "\n",
    "# Plot Configuration\n",
    "plt.legend(['fraud','not fraud'], bbox_to_anchor=(1, 1))\n",
    "plt.xlabel(\"police report available'\")"
   ]
  },
  {
   "cell_type": "markdown",
   "metadata": {},
   "source": [
    "<span style=\"font-size:1.5em;font-weight:bold\">Update the application scripts!</span>\n",
    "\n",
    "Now that your plots are ready, it's time to move them to the dashboard!\n",
    "\n",
    "- **On helper.py**:\n",
    "    - Use the code on **Task 8-11** to complete the functions below:\n",
    "        - Task 8 --> `plot_age()`\n",
    "        - Task 9 --> `plot_premium()`\n",
    "        - Task 10 --> `plot_incident()`\n",
    "        - Task 11 --> `plot_report()`\n",
    "        \n",
    "- **On app.py:**\n",
    "    - Now that all the functions are completed, you can call all functions from helper.py using the asterisk (\\*) symbol: `from helper import *` \n",
    "    - \"Uncomment\" the codes under `# generate plot` section to generate the plots\n",
    "    - Lastly, in `render_template()` at the end of `index()` in `app.py`, uncomment the remaining codes."
   ]
  },
  {
   "cell_type": "markdown",
   "metadata": {},
   "source": [
    "# Create-Your-Own Analysis\n",
    "\n",
    "We have prepared a Create-Your-Own tab on the apps where you can play around with the data frame and come up with your own analysis perspective. Don't forget to do the following steps:\n",
    "\n",
    "- Pass a variable onto the `render_template()` from `index()`\n",
    "- Create a separate function on `helper.py` for data wrangling and preprocessing, either returning a dataframe, simple value, or a plot to keep the `app.py` as clean as possible and easy to debug at later times\n",
    "- Edit the `index.html` to make sure it display your intended output on the page. You can copy-and-paste the skeleton from the other plots or values"
   ]
  },
  {
   "cell_type": "code",
   "execution_count": 30,
   "metadata": {},
   "outputs": [],
   "source": [
    "## Your code here\n"
   ]
  }
 ],
 "metadata": {
  "kernelspec": {
   "display_name": "aiko",
   "language": "python",
   "name": "aiko"
  },
  "language_info": {
   "codemirror_mode": {
    "name": "ipython",
    "version": 3
   },
   "file_extension": ".py",
   "mimetype": "text/x-python",
   "name": "python",
   "nbconvert_exporter": "python",
   "pygments_lexer": "ipython3",
   "version": "3.6.9"
  },
  "latex_envs": {
   "LaTeX_envs_menu_present": true,
   "autoclose": false,
   "autocomplete": true,
   "bibliofile": "biblio.bib",
   "cite_by": "apalike",
   "current_citInitial": 1,
   "eqLabelWithNumbers": true,
   "eqNumInitial": 1,
   "hotkeys": {
    "equation": "Ctrl-E",
    "itemize": "Ctrl-I"
   },
   "labels_anchors": false,
   "latex_user_defs": false,
   "report_style_numbering": false,
   "user_envs_cfg": false
  },
  "toc": {
   "base_numbering": 1,
   "nav_menu": {},
   "number_sections": true,
   "sideBar": true,
   "skip_h1_title": false,
   "title_cell": "Table of Contents",
   "title_sidebar": "Contents",
   "toc_cell": false,
   "toc_position": {
    "height": "calc(100% - 180px)",
    "left": "10px",
    "top": "150px",
    "width": "284.261px"
   },
   "toc_section_display": true,
   "toc_window_display": true
  }
 },
 "nbformat": 4,
 "nbformat_minor": 4
}
